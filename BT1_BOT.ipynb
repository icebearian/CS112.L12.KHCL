{
  "nbformat": 4,
  "nbformat_minor": 0,
  "metadata": {
    "colab": {
      "name": "BT1-BOT.ipynb",
      "provenance": [],
      "collapsed_sections": [],
      "authorship_tag": "ABX9TyOrUCh/rBQiYvd/eKNUV1r3",
      "include_colab_link": true
    },
    "kernelspec": {
      "name": "python3",
      "display_name": "Python 3"
    }
  },
  "cells": [
    {
      "cell_type": "markdown",
      "metadata": {
        "id": "view-in-github",
        "colab_type": "text"
      },
      "source": [
        "<a href=\"https://colab.research.google.com/github/trungphamuit/CS112.L12.KHCL/blob/master/BT1_BOT.ipynb\" target=\"_parent\"><img src=\"https://colab.research.google.com/assets/colab-badge.svg\" alt=\"Open In Colab\"/></a>"
      ]
    },
    {
      "cell_type": "markdown",
      "metadata": {
        "id": "1HgCdpRWQvz8",
        "colab_type": "text"
      },
      "source": [
        "**1. Abstraction**\n",
        "- Tổng chuỗi con liên tiếp lớn nhất\n",
        " \n",
        "**2. Pattern Recognization**\n",
        "- Quy hoạch động (Dynamic Programming)\n",
        " \n",
        "**3. Algorithm designed**\n",
        " \n",
        "...\n",
        " \n",
        "            "
      ]
    },
    {
      "cell_type": "code",
      "metadata": {
        "id": "eHbhEwQsYLOX",
        "colab_type": "code",
        "colab": {
          "base_uri": "https://localhost:8080/",
          "height": 68
        },
        "outputId": "d1a9b04b-0f6a-4a06-8303-3fc18213d402"
      },
      "source": [
        ""
      ],
      "execution_count": null,
      "outputs": [
        {
          "output_type": "stream",
          "text": [
            "4\n",
            "1 2 3 4\n",
            "1 4 10\n"
          ],
          "name": "stdout"
        }
      ]
    }
  ]
}